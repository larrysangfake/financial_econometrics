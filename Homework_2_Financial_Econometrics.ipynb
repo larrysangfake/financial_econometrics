{
  "nbformat": 4,
  "nbformat_minor": 0,
  "metadata": {
    "colab": {
      "provenance": [],
      "gpuType": "T4",
      "include_colab_link": true
    },
    "kernelspec": {
      "name": "python3",
      "display_name": "Python 3"
    },
    "language_info": {
      "name": "python"
    },
    "accelerator": "GPU"
  },
  "cells": [
    {
      "cell_type": "markdown",
      "metadata": {
        "id": "view-in-github",
        "colab_type": "text"
      },
      "source": [
        "<a href=\"https://colab.research.google.com/github/larrysangfake/financial_econometrics/blob/main/Homework_2_Financial_Econometrics.ipynb\" target=\"_parent\"><img src=\"https://colab.research.google.com/assets/colab-badge.svg\" alt=\"Open In Colab\"/></a>"
      ]
    },
    {
      "cell_type": "markdown",
      "source": [
        "#Homework 2\n",
        "##Group Members: Linhui Larry Sang, Wan Zheng, Yash Shah\n"
      ],
      "metadata": {
        "id": "RTJTAO1N07hf"
      }
    },
    {
      "cell_type": "code",
      "source": [
        "import numpy as np\n",
        "import yfinance as yf\n",
        "import zipfile\n",
        "import pandas as pd\n",
        "import requests\n",
        "from io import BytesIO\n",
        "from scipy.interpolate import interp1d\n",
        "from scipy import integrate\n",
        "import scipy.stats as ss\n",
        "from scipy.stats import norm\n"
      ],
      "metadata": {
        "id": "8pc4xtcu9ML1"
      },
      "execution_count": 1,
      "outputs": []
    },
    {
      "cell_type": "markdown",
      "source": [
        "###Download Data"
      ],
      "metadata": {
        "id": "ULFLCltH1TSr"
      }
    },
    {
      "cell_type": "code",
      "execution_count": 2,
      "metadata": {
        "colab": {
          "base_uri": "https://localhost:8080/"
        },
        "id": "SKz7Tt4fzQrx",
        "outputId": "209697b5-1c60-4a9b-80ea-fe5dfea2fe9c"
      },
      "outputs": [
        {
          "output_type": "stream",
          "name": "stderr",
          "text": [
            "\r[*********************100%%**********************]  1 of 1 completed"
          ]
        },
        {
          "output_type": "stream",
          "name": "stdout",
          "text": [
            "                 Open       High        Low      Close  Adj Close  Volume\n",
            "Date                                                                     \n",
            "2016-01-04  22.480000  23.360001  20.670000  20.700001  20.700001       0\n",
            "2016-01-05  20.750000  21.059999  19.250000  19.340000  19.340000       0\n",
            "2016-01-06  21.670000  21.860001  19.799999  20.590000  20.590000       0\n",
            "2016-01-07  23.219999  25.860001  22.400000  24.990000  24.990000       0\n",
            "2016-01-08  22.959999  27.080000  22.480000  27.010000  27.010000       0\n"
          ]
        },
        {
          "output_type": "stream",
          "name": "stderr",
          "text": [
            "\n"
          ]
        }
      ],
      "source": [
        "import yfinance as yf\n",
        "\n",
        "# Define the ticker symbol for the VIX (CBOE Volatility Index)\n",
        "ticker_symbol = '^VIX'\n",
        "\n",
        "# Define the start and end dates\n",
        "start_date = '2016-01-01'\n",
        "end_date = '2016-04-30'\n",
        "\n",
        "# Download the data from Yahoo Finance\n",
        "vix_data = yf.download(ticker_symbol, start=start_date, end=end_date)\n",
        "\n",
        "# Display the first few rows of the downloaded data\n",
        "print(vix_data.head())\n"
      ]
    },
    {
      "cell_type": "code",
      "source": [
        "import zipfile\n",
        "import pandas as pd\n",
        "import requests\n",
        "from io import BytesIO\n",
        "\n",
        "# URL of the ZIP file\n",
        "zip_file_url = 'https://github.com/larrysangfake/financial_econometrics/blob/main/SPX_2016_options.csv.zip?raw=true'\n",
        "\n",
        "# Download the ZIP file\n",
        "response = requests.get(zip_file_url)\n",
        "zip_data = BytesIO(response.content)\n",
        "\n",
        "# Path to the CSV file inside the ZIP file\n",
        "csv_file_name = 'SPX_2016_options.csv'\n",
        "\n",
        "# Open the ZIP file\n",
        "with zipfile.ZipFile(zip_data, 'r') as zip_ref:\n",
        "    # Extract the CSV file\n",
        "    zip_ref.extract(csv_file_name, path='.')\n",
        "\n",
        "# Read the CSV file into a DataFrame\n",
        "df = pd.read_csv(csv_file_name, header=None)\n",
        "\n",
        "# Now you can work with the DataFrame (df)\n",
        "print(df.head())\n"
      ],
      "metadata": {
        "colab": {
          "base_uri": "https://localhost:8080/"
        },
        "id": "cKjQmOXo1qZl",
        "outputId": "bd08d9b2-7a41-47ee-d863-55aa315eaf8e"
      },
      "execution_count": 3,
      "outputs": [
        {
          "output_type": "stream",
          "name": "stdout",
          "text": [
            "       0         1       2       3   4   5     6       7       8     9   \\\n",
            "0  108105  20160104  736333  736344  11   1  1000  1007.4  1010.8  2000   \n",
            "1  108105  20160104  736333  736344  11   1  1025   982.3   985.8     0   \n",
            "2  108105  20160104  736333  736344  11   1  1050   957.3   960.9     0   \n",
            "3  108105  20160104  736333  736344  11   1  1075   932.3   935.9     0   \n",
            "4  108105  20160104  736333  736344  11   1  1100   907.4   911.1     0   \n",
            "\n",
            "      10  11       12        13  14  15        16  \n",
            "0  42291 NaN  2012.66 -0.015304   1   1  0.007121  \n",
            "1      0 NaN  2012.66 -0.015304   1   1  0.007121  \n",
            "2      0 NaN  2012.66 -0.015304   1   1  0.007121  \n",
            "3      0 NaN  2012.66 -0.015304   1   1  0.007121  \n",
            "4     20 NaN  2012.66 -0.015304   1   1  0.007121  \n"
          ]
        }
      ]
    },
    {
      "cell_type": "code",
      "source": [
        "df.columns = [\n",
        "    'ID', 'Date', 'Julian Date', 'Julian Maturity Date', 'Time Difference in Days', 'Call/Put',\n",
        "    'Strike Price', 'bid', 'ask', 'Unnamed:9', 'Unnamed:10', 'volatility',\n",
        "    'stock price', 'Unnamed:13', 'Unnamed: 14', 'Unnamed: 15', 'interest rate'\n",
        "]\n",
        "\n",
        "# Print the DataFrame to check the new column names\n",
        "print(df.head())"
      ],
      "metadata": {
        "colab": {
          "base_uri": "https://localhost:8080/"
        },
        "id": "Cc7o6hl835kh",
        "outputId": "003b4db0-954a-437c-edb4-3cf4f2a5d3bf"
      },
      "execution_count": 4,
      "outputs": [
        {
          "output_type": "stream",
          "name": "stdout",
          "text": [
            "       ID      Date  Julian Date  Julian Maturity Date  \\\n",
            "0  108105  20160104       736333                736344   \n",
            "1  108105  20160104       736333                736344   \n",
            "2  108105  20160104       736333                736344   \n",
            "3  108105  20160104       736333                736344   \n",
            "4  108105  20160104       736333                736344   \n",
            "\n",
            "   Time Difference in Days  Call/Put  Strike Price     bid     ask  Unnamed:9  \\\n",
            "0                       11         1          1000  1007.4  1010.8       2000   \n",
            "1                       11         1          1025   982.3   985.8          0   \n",
            "2                       11         1          1050   957.3   960.9          0   \n",
            "3                       11         1          1075   932.3   935.9          0   \n",
            "4                       11         1          1100   907.4   911.1          0   \n",
            "\n",
            "   Unnamed:10  volatility  stock price  Unnamed:13  Unnamed: 14  Unnamed: 15  \\\n",
            "0       42291         NaN      2012.66   -0.015304            1            1   \n",
            "1           0         NaN      2012.66   -0.015304            1            1   \n",
            "2           0         NaN      2012.66   -0.015304            1            1   \n",
            "3           0         NaN      2012.66   -0.015304            1            1   \n",
            "4          20         NaN      2012.66   -0.015304            1            1   \n",
            "\n",
            "   interest rate  \n",
            "0       0.007121  \n",
            "1       0.007121  \n",
            "2       0.007121  \n",
            "3       0.007121  \n",
            "4       0.007121  \n"
          ]
        }
      ]
    },
    {
      "cell_type": "markdown",
      "source": [
        "###1. Data Cleaning"
      ],
      "metadata": {
        "id": "GmQ3CkvMkMlj"
      }
    },
    {
      "cell_type": "code",
      "source": [
        "cleaned_data = df.dropna(subset=['volatility'])\n",
        "print(cleaned_data.head())"
      ],
      "metadata": {
        "colab": {
          "base_uri": "https://localhost:8080/"
        },
        "id": "kj4_-uR8kKlq",
        "outputId": "967defa6-920c-43a7-d562-3cd086324ae9"
      },
      "execution_count": 5,
      "outputs": [
        {
          "output_type": "stream",
          "name": "stdout",
          "text": [
            "         ID      Date  Julian Date  Julian Maturity Date  \\\n",
            "128  108105  20160104       736333                736344   \n",
            "129  108105  20160104       736333                736344   \n",
            "130  108105  20160104       736333                736344   \n",
            "131  108105  20160104       736333                736344   \n",
            "132  108105  20160104       736333                736344   \n",
            "\n",
            "     Time Difference in Days  Call/Put  Strike Price    bid    ask  Unnamed:9  \\\n",
            "128                       11         1          1875  135.3  138.2        500   \n",
            "129                       11         1          1880  130.1  133.9         12   \n",
            "130                       11         1          1885  125.4  129.1          0   \n",
            "131                       11         1          1890  120.7  124.4          5   \n",
            "132                       11         1          1895  116.5  119.3          0   \n",
            "\n",
            "     Unnamed:10  volatility  stock price  Unnamed:13  Unnamed: 14  \\\n",
            "128         311    0.149708      2012.66   -0.015304            1   \n",
            "129          29    0.184996      2012.66   -0.015304            1   \n",
            "130           7    0.196155      2012.66   -0.015304            1   \n",
            "131          30    0.203980      2012.66   -0.015304            1   \n",
            "132           5    0.209911      2012.66   -0.015304            1   \n",
            "\n",
            "     Unnamed: 15  interest rate  \n",
            "128            1       0.007121  \n",
            "129            1       0.007121  \n",
            "130            1       0.007121  \n",
            "131            1       0.007121  \n",
            "132            1       0.007121  \n"
          ]
        }
      ]
    },
    {
      "cell_type": "markdown",
      "source": [
        "###2. Create a new column"
      ],
      "metadata": {
        "id": "Ai0QD7pvkhLs"
      }
    },
    {
      "cell_type": "code",
      "source": [
        "cleaned_data['Average Price'] = (cleaned_data['bid'] + cleaned_data['ask']) / 2\n",
        "\n",
        "# To see the updated DataFrame with the new 'Average Price' column\n",
        "print(cleaned_data.head())"
      ],
      "metadata": {
        "colab": {
          "base_uri": "https://localhost:8080/"
        },
        "id": "ZnhvV8M2kgou",
        "outputId": "9d8dbcdd-1cca-4587-eb0c-996a3feed9a1"
      },
      "execution_count": 6,
      "outputs": [
        {
          "output_type": "stream",
          "name": "stdout",
          "text": [
            "         ID      Date  Julian Date  Julian Maturity Date  \\\n",
            "128  108105  20160104       736333                736344   \n",
            "129  108105  20160104       736333                736344   \n",
            "130  108105  20160104       736333                736344   \n",
            "131  108105  20160104       736333                736344   \n",
            "132  108105  20160104       736333                736344   \n",
            "\n",
            "     Time Difference in Days  Call/Put  Strike Price    bid    ask  Unnamed:9  \\\n",
            "128                       11         1          1875  135.3  138.2        500   \n",
            "129                       11         1          1880  130.1  133.9         12   \n",
            "130                       11         1          1885  125.4  129.1          0   \n",
            "131                       11         1          1890  120.7  124.4          5   \n",
            "132                       11         1          1895  116.5  119.3          0   \n",
            "\n",
            "     Unnamed:10  volatility  stock price  Unnamed:13  Unnamed: 14  \\\n",
            "128         311    0.149708      2012.66   -0.015304            1   \n",
            "129          29    0.184996      2012.66   -0.015304            1   \n",
            "130           7    0.196155      2012.66   -0.015304            1   \n",
            "131          30    0.203980      2012.66   -0.015304            1   \n",
            "132           5    0.209911      2012.66   -0.015304            1   \n",
            "\n",
            "     Unnamed: 15  interest rate  Average Price  \n",
            "128            1       0.007121         136.75  \n",
            "129            1       0.007121         132.00  \n",
            "130            1       0.007121         127.25  \n",
            "131            1       0.007121         122.55  \n",
            "132            1       0.007121         117.90  \n"
          ]
        },
        {
          "output_type": "stream",
          "name": "stderr",
          "text": [
            "<ipython-input-6-d0d5f6261de8>:1: SettingWithCopyWarning: \n",
            "A value is trying to be set on a copy of a slice from a DataFrame.\n",
            "Try using .loc[row_indexer,col_indexer] = value instead\n",
            "\n",
            "See the caveats in the documentation: https://pandas.pydata.org/pandas-docs/stable/user_guide/indexing.html#returning-a-view-versus-a-copy\n",
            "  cleaned_data['Average Price'] = (cleaned_data['bid'] + cleaned_data['ask']) / 2\n"
          ]
        }
      ]
    },
    {
      "cell_type": "markdown",
      "source": [
        "###3. Filter the columns"
      ],
      "metadata": {
        "id": "62t0jO0KI2DQ"
      }
    },
    {
      "cell_type": "code",
      "source": [
        "filtered_df = cleaned_data[(cleaned_data['Average Price'] > 0.05)]\n",
        "\n",
        "# Check the filtered data\n",
        "print(filtered_df.head())"
      ],
      "metadata": {
        "colab": {
          "base_uri": "https://localhost:8080/"
        },
        "id": "u0r46HDlHxT9",
        "outputId": "69bc2371-599b-43ba-94f7-66c91f2a70f0"
      },
      "execution_count": 7,
      "outputs": [
        {
          "output_type": "stream",
          "name": "stdout",
          "text": [
            "         ID      Date  Julian Date  Julian Maturity Date  \\\n",
            "128  108105  20160104       736333                736344   \n",
            "129  108105  20160104       736333                736344   \n",
            "130  108105  20160104       736333                736344   \n",
            "131  108105  20160104       736333                736344   \n",
            "132  108105  20160104       736333                736344   \n",
            "\n",
            "     Time Difference in Days  Call/Put  Strike Price    bid    ask  Unnamed:9  \\\n",
            "128                       11         1          1875  135.3  138.2        500   \n",
            "129                       11         1          1880  130.1  133.9         12   \n",
            "130                       11         1          1885  125.4  129.1          0   \n",
            "131                       11         1          1890  120.7  124.4          5   \n",
            "132                       11         1          1895  116.5  119.3          0   \n",
            "\n",
            "     Unnamed:10  volatility  stock price  Unnamed:13  Unnamed: 14  \\\n",
            "128         311    0.149708      2012.66   -0.015304            1   \n",
            "129          29    0.184996      2012.66   -0.015304            1   \n",
            "130           7    0.196155      2012.66   -0.015304            1   \n",
            "131          30    0.203980      2012.66   -0.015304            1   \n",
            "132           5    0.209911      2012.66   -0.015304            1   \n",
            "\n",
            "     Unnamed: 15  interest rate  Average Price  \n",
            "128            1       0.007121         136.75  \n",
            "129            1       0.007121         132.00  \n",
            "130            1       0.007121         127.25  \n",
            "131            1       0.007121         122.55  \n",
            "132            1       0.007121         117.90  \n"
          ]
        }
      ]
    },
    {
      "cell_type": "markdown",
      "source": [
        "###4. Out the Money"
      ],
      "metadata": {
        "id": "Bx8lkxUjJHlf"
      }
    },
    {
      "cell_type": "code",
      "source": [
        "# Filter Out of the Money Call Options (S < K)\n",
        "otm_calls = filtered_df[(filtered_df['Call/Put'] == 1) & (filtered_df['stock price'] < filtered_df['Strike Price'])]\n",
        "\n",
        "# Filter Out of the Money Put Options (S > K)\n",
        "otm_puts = filtered_df[(filtered_df['Call/Put'] == -1) & (filtered_df['stock price'] > filtered_df['Strike Price'])]\n",
        "\n",
        "# Combine OTM calls and puts into a single DataFrame\n",
        "otm_options = pd.concat([otm_calls, otm_puts])\n",
        "\n",
        "# Check the resulting DataFrame\n",
        "print(otm_options.head())"
      ],
      "metadata": {
        "colab": {
          "base_uri": "https://localhost:8080/"
        },
        "id": "foqinTFOIXDh",
        "outputId": "359a2b8c-c045-46fd-8d20-7ede42df0c79"
      },
      "execution_count": 8,
      "outputs": [
        {
          "output_type": "stream",
          "name": "stdout",
          "text": [
            "         ID      Date  Julian Date  Julian Maturity Date  \\\n",
            "156  108105  20160104       736333                736344   \n",
            "157  108105  20160104       736333                736344   \n",
            "158  108105  20160104       736333                736344   \n",
            "159  108105  20160104       736333                736344   \n",
            "160  108105  20160104       736333                736344   \n",
            "\n",
            "     Time Difference in Days  Call/Put  Strike Price   bid   ask  Unnamed:9  \\\n",
            "156                       11         1          2015  23.4  25.5       1852   \n",
            "157                       11         1          2020  20.6  22.4       1105   \n",
            "158                       11         1          2025  18.1  20.0       4957   \n",
            "159                       11         1          2030  15.9  17.7        187   \n",
            "160                       11         1          2035  13.8  15.6        180   \n",
            "\n",
            "     Unnamed:10  volatility  stock price  Unnamed:13  Unnamed: 14  \\\n",
            "156        4389    0.195975      2012.66   -0.015304            1   \n",
            "157        2124    0.190988      2012.66   -0.015304            1   \n",
            "158       29268    0.188562      2012.66   -0.015304            1   \n",
            "159        1741    0.186419      2012.66   -0.015304            1   \n",
            "160         628    0.184163      2012.66   -0.015304            1   \n",
            "\n",
            "     Unnamed: 15  interest rate  Average Price  \n",
            "156            1       0.007121          24.45  \n",
            "157            1       0.007121          21.50  \n",
            "158            1       0.007121          19.05  \n",
            "159            1       0.007121          16.80  \n",
            "160            1       0.007121          14.70  \n"
          ]
        }
      ]
    },
    {
      "cell_type": "markdown",
      "source": [
        "###5.The implied volatility"
      ],
      "metadata": {
        "id": "VhzI4_EEJTJl"
      }
    },
    {
      "cell_type": "code",
      "source": [
        "#Black and Scholes\n",
        "def BlackScholes(CallPutFlag,S,X,v,r,T):\n",
        "\n",
        "    d1 = (np.log(S/X)+(r+v*v/2.)*T)/(v*np.sqrt(T))\n",
        "\n",
        "    d2 = d1-v*np.sqrt(T)\n",
        "    if CallPutFlag==\"C\":\n",
        "        P = S*norm.cdf(d1) - X*np.exp(-r*T)*norm.cdf(d2)\n",
        "\n",
        "    else:\n",
        "        P = -S*norm.cdf(-d1) + X*np.exp(-r*T)*norm.cdf(-d2)\n",
        "    return P\n"
      ],
      "metadata": {
        "id": "xhUourHpa00O"
      },
      "execution_count": 9,
      "outputs": []
    },
    {
      "cell_type": "code",
      "source": [
        "def ivol(K,IV,Kall):\n",
        "    if Kall>=K[len(K)-1]:\n",
        "        Kall=K[len(K)-1]\n",
        "    if Kall<=K[0]:\n",
        "        Kall=K[0]\n",
        "    funy = interp1d(K,IV, kind='cubic', fill_value=\"extrapolate\")\n",
        "    y=funy(Kall)\n",
        "\n",
        "    if (np.sum(y<0)>0):\n",
        "        if Kall>=K[len(K)-1]:\n",
        "            Kall=K[len(K)-1]\n",
        "        if Kall<=K[0]:\n",
        "            Kall=K[0]\n",
        "        funy = interp1d(K,IV, kind='linear', fill_value=\"extrapolate\")\n",
        "        y=funy(Kall)\n",
        "    return(y)"
      ],
      "metadata": {
        "id": "VhCq6W2TYGYt"
      },
      "execution_count": 10,
      "outputs": []
    },
    {
      "cell_type": "code",
      "source": [
        "def RiskNeutralVolatilitySkewKurt_JVKR(Kvector, IVvector, S0, T, r):\n",
        "    kmin=.1*S0;\n",
        "    kmax=3.5*S0;\n",
        "\n",
        "    def V1(K):\n",
        "        V1=2*(1-np.log(K/S0))*BlackScholes(\"C\",S0, K, ivol(Kvector,IVvector,K), r, T)/np.power(K,2)\n",
        "        return(V1)\n",
        "    def V2(K):\n",
        "        V2=2*(1+np.log(S0/K))*BlackScholes(\"P\",S0, K, ivol(Kvector,IVvector,K), r, T)/np.power(K,2);\n",
        "        return(V2)\n",
        "\n",
        "    def W1(K):\n",
        "        W1=(6*np.log(K/S0)-3*np.power(np.log(K/S0),2))*BlackScholes(\"C\",S0, K, ivol(Kvector,IVvector,K), r, T)/np.power(K,2);\n",
        "        return(W1)\n",
        "\n",
        "    def W2(K):\n",
        "        W2=(6*np.log(S0/K)+3*np.power(np.log(S0/K),2))*BlackScholes(\"P\",S0, K, ivol(Kvector,IVvector,K), r, T)/np.power(K,2);\n",
        "        return(W2)\n",
        "\n",
        "    def X1(K):\n",
        "        X1=(((12*np.power(np.log(K/S0),2) - 4*np.power(np.log(K/S0),3)))*(BlackScholes(\"C\",S0, K, ivol(Kvector,IVvector,K), r, T))/np.power(K,2));\n",
        "        return(X1)\n",
        "\n",
        "    def X2(K):\n",
        "        X2=(((12*np.power(np.log(S0/K),2) + 4*np.power(np.log(S0/K),3)))*(BlackScholes(\"P\",S0, K, ivol(Kvector,IVvector,K), r, T))/np.power(K,2));\n",
        "        return(X2)\n",
        "    V=integrate.quad(V1,S0,kmax)[0]+integrate.quad(V2,kmin,S0)[0]\n",
        "    W=integrate.quad(W1,S0,kmax)[0]-integrate.quad(W2,kmin,S0)[0]\n",
        "    X=integrate.quad(X1,S0,kmax)[0]+integrate.quad(X2,kmin,S0)[0]\n",
        "    mu=np.exp(r*T)-1-np.exp(r*T)*V/2-np.exp(r*T)*W/6-np.exp(r*T)*X/24;\n",
        "    #print(V,W,X,mu)\n",
        "\n",
        "    vol=np.sqrt(1/T * V);\n",
        "    skew=( np.exp(r*T)*W - 3*mu*np.exp(r*T)*V + 2*np.power(mu,3)) / np.power(np.exp(r*T)*V - np.power(mu,2),3/2);\n",
        "    kurt=( np.exp(r*T)*X - 4*mu*np.exp(r*T)*W + 6*np.exp(r*T)*np.power(mu,2)*V - 3*np.power(mu,4)) / np.power(np.exp(r*T)*V - np.power(mu,2),2);\n",
        "\n",
        "    return([vol,skew,kurt]);"
      ],
      "metadata": {
        "id": "i_6ql2akZYiQ"
      },
      "execution_count": 11,
      "outputs": []
    },
    {
      "cell_type": "code",
      "source": [
        "# Convert dates and calculate time to maturity in years\n",
        "otm_options['Date'] = pd.to_datetime(otm_options['Date'], format='%Y%m%d')\n",
        "\n",
        "otm_options['Time to Maturity'] = (otm_options['Time Difference in Days'])/ 365.25\n",
        "\n",
        "def apply_risk_neutral_vol_skew_kurt(group):\n",
        "    Kvector = group['Strike Price'].values\n",
        "    IVvector = group['volatility'].values\n",
        "    S0 = group['stock price'].iloc[0]\n",
        "    r = group['interest rate'].iloc[0]\n",
        "    T = group['Time to Maturity'].iloc[0]\n",
        "\n",
        "    if len(Kvector) < 2 or len(IVvector) < 2:\n",
        "        return pd.Series([np.nan] * len(group), index=group.index)  # Return a Series of NaNs with the same index as the group\n",
        "\n",
        "    # Calculate risk-neutral volatility, skewness, and kurtosis\n",
        "    vol, skew, kurt = RiskNeutralVolatilitySkewKurt_JVKR(Kvector, IVvector, S0, T, r)\n",
        "    return pd.Series([vol] * len(group), index=group.index)  # Return a Series with the calculated volatility repeated for each item in the group\n",
        "\n",
        "# Apply the function to each group and create a new DataFrame with the results\n",
        "volatility_results = otm_options.groupby(['Date', 'Julian Maturity Date']).apply(apply_risk_neutral_vol_skew_kurt).reset_index()\n",
        "volatility_results.rename(columns={0: 'Implied Volatility'}, inplace=True)\n",
        "\n",
        "# Merge the results back to the original DataFrame\n",
        "otm_options = pd.merge(otm_options, volatility_results, on=['Date', 'Julian Maturity Date'], how='left')\n",
        "\n",
        "# Display the results\n",
        "print(otm_options[['Date', 'Julian Maturity Date', 'Implied Volatility']].head())"
      ],
      "metadata": {
        "id": "cnaFHDA8h0Jo"
      },
      "execution_count": null,
      "outputs": []
    },
    {
      "cell_type": "code",
      "source": [
        "# Convert dates and calculate time to maturity in years\n",
        "otm_options['Date'] = pd.to_datetime(otm_options['Date'], format='%Y%m%d')\n",
        "otm_options['Time to Maturity'] = otm_options['Time Difference in Days'] / 365.25\n",
        "\n",
        "# Define a function to apply risk-neutral volatility, skewness, and kurtosis calculation\n",
        "def apply_risk_neutral_vol_skew_kurt(group):\n",
        "    # Extract group-level constants\n",
        "    S0 = group['stock price'].iloc[0]\n",
        "    r = group['interest rate'].iloc[0]\n",
        "    T = group['Time to Maturity'].iloc[0]\n",
        "\n",
        "    # Calculate implied volatility, skewness, and kurtosis\n",
        "    if len(group) < 2:\n",
        "        return pd.Series([np.nan] * len(group), index=group.index)  # Return NaNs for groups with insufficient data\n",
        "    else:\n",
        "        vol, skew, kurt = RiskNeutralVolatilitySkewKurt_JVKR(group['Strike Price'].values, group['volatility'].values, S0, T, r)\n",
        "        return pd.Series([vol] * len(group), index=group.index)  # Repeat the calculated volatility for each item in the group\n",
        "\n",
        "# Apply the function to each group and create a new DataFrame with the results\n",
        "volatility_results = otm_options.groupby(['Date', 'Julian Maturity Date']).apply(apply_risk_neutral_vol_skew_kurt)\n",
        "\n",
        "# Merge the results back to the original DataFrame\n",
        "otm_options['Implied Volatility'] = volatility_results.reset_index(level=[0, 1], drop=True)\n",
        "\n",
        "# Display the results\n",
        "print(otm_options[['Date', 'Julian Maturity Date', 'Implied Volatility']].head())\n"
      ],
      "metadata": {
        "id": "-Sk9SN5-GqhC"
      },
      "execution_count": null,
      "outputs": []
    },
    {
      "cell_type": "code",
      "source": [
        "# Merge the results back to the original DataFrame\n",
        "otm_options = pd.merge(otm_options, volatility_results, on=['Date', 'Julian Maturity Date'], how='left')\n",
        "\n",
        "# Display the results\n",
        "print(otm_options[['Date', 'Julian Maturity Date', 'Implied Volatility']].head())"
      ],
      "metadata": {
        "id": "KEgYJMsE2duo"
      },
      "execution_count": null,
      "outputs": []
    },
    {
      "cell_type": "code",
      "source": [
        "import pandas as pd\n",
        "import numpy as np\n",
        "from scipy.interpolate import interp1d\n",
        "\n",
        "# Assuming otm_options is predefined\n",
        "unique_dates = otm_options['Julian Date'].unique()\n",
        "unique_maturities = otm_options['Julian Maturity Date'].unique()\n",
        "\n",
        "results = []\n",
        "\n",
        "for date in unique_dates:\n",
        "    for maturity in unique_maturities:\n",
        "        subset = otm_options[(otm_options['Julian Date'] == date) & (otm_options['Julian Maturity Date'] == maturity)]\n",
        "\n",
        "        if len(subset) > 1:\n",
        "            K = subset['Strike Price'].values\n",
        "            IV = subset['volatility'].values  # Ensure this column is correctly filled\n",
        "\n",
        "            # Safely apply interpolation\n",
        "            try:\n",
        "                # Assuming ivol is already defined and handles extrapolation or errors internally\n",
        "                interp_func = interp1d(K, IV, kind='linear', fill_value='extrapolate', bounds_error=False)\n",
        "                subset = subset.copy()  # Work on a copy to avoid SettingWithCopyWarning\n",
        "                subset['implied_volatility'] = subset['Strike Price'].apply(lambda x: interp_func(x))\n",
        "                results.append(subset)\n",
        "            except Exception as e:\n",
        "                print(f\"Error in interpolation for date {date} and maturity {maturity}: {e}\")\n",
        "\n",
        "# Combine all results into a single DataFrame\n",
        "result_df = pd.concat(results, ignore_index=True)\n",
        "\n",
        "print(result_df.head())"
      ],
      "metadata": {
        "colab": {
          "base_uri": "https://localhost:8080/"
        },
        "id": "bZnMr9m4h7Nq",
        "outputId": "f90caeec-a0e4-4997-950f-f489345fa815"
      },
      "execution_count": null,
      "outputs": [
        {
          "output_type": "stream",
          "name": "stdout",
          "text": [
            "       ID      Date  Julian Date  Julian Maturity Date  \\\n",
            "0  108105  20160104       736333                736344   \n",
            "1  108105  20160104       736333                736344   \n",
            "2  108105  20160104       736333                736344   \n",
            "3  108105  20160104       736333                736344   \n",
            "4  108105  20160104       736333                736344   \n",
            "\n",
            "   Time Difference in Days  Call/Put  Strike Price   bid   ask  Unnamed:9  \\\n",
            "0                       11         1          2015  23.4  25.5       1852   \n",
            "1                       11         1          2020  20.6  22.4       1105   \n",
            "2                       11         1          2025  18.1  20.0       4957   \n",
            "3                       11         1          2030  15.9  17.7        187   \n",
            "4                       11         1          2035  13.8  15.6        180   \n",
            "\n",
            "   Unnamed:10  volatility  stock price  Unnamed:13  Unnamed: 14  Unnamed: 15  \\\n",
            "0        4389    0.195975      2012.66   -0.015304            1            1   \n",
            "1        2124    0.190988      2012.66   -0.015304            1            1   \n",
            "2       29268    0.188562      2012.66   -0.015304            1            1   \n",
            "3        1741    0.186419      2012.66   -0.015304            1            1   \n",
            "4         628    0.184163      2012.66   -0.015304            1            1   \n",
            "\n",
            "   interest rate  Average Price  implied_volatility  \n",
            "0       0.007121          24.45            0.195975  \n",
            "1       0.007121          21.50            0.190988  \n",
            "2       0.007121          19.05            0.188562  \n",
            "3       0.007121          16.80            0.186419  \n",
            "4       0.007121          14.70            0.184163  \n"
          ]
        }
      ]
    },
    {
      "cell_type": "markdown",
      "source": [
        "###6. 30-day volatility"
      ],
      "metadata": {
        "id": "EQuYpfrqi138"
      }
    },
    {
      "cell_type": "code",
      "source": [
        "import pandas as pd\n",
        "from scipy.interpolate import interp1d\n",
        "\n",
        "\n",
        "# otm_options['Date'], otm_options['Time Difference in Days'], otm_options['Implied Volatility']\n",
        "\n",
        "# Function to interpolate and find IV at 30 days maturity\n",
        "def interpolate_iv_at_30(group):\n",
        "    # Extract days and IVs from the group\n",
        "    days = group['Time Difference in Days'].values\n",
        "    ivs = group['Implied Volatility'].values\n",
        "\n",
        "    # Check if interpolation is possible\n",
        "    if min(days) <= 30 <= max(days):  # Only interpolate if 30 is within the range of existing data points\n",
        "        interp_function = interp1d(days, ivs, kind='linear', bounds_error=False, fill_value=\"extrapolate\")\n",
        "        return interp_function(30)\n",
        "    else:\n",
        "        return np.nan  # Return NaN if 30 days is out of the range\n",
        "\n",
        "# Apply the interpolation function to each group of data by 'Date'\n",
        "otm_options['IV at 30 Days'] = otm_options.groupby('Date').apply(interpolate_iv_at_30)\n",
        "\n",
        "# Resulting DataFrame with interpolated IV at 30 days\n",
        "print(otm_options[['Date', 'IV at 30 Days']].drop_duplicates())\n"
      ],
      "metadata": {
        "id": "YnKwnbIKsxaF"
      },
      "execution_count": null,
      "outputs": []
    },
    {
      "cell_type": "code",
      "source": [
        "import pandas as pd\n",
        "from scipy.interpolate import interp1d\n",
        "import numpy as np\n",
        "\n",
        "\n",
        "# Define a function to handle interpolation for a single date's data\n",
        "def interpolate_iv_at_30_days(maturity_days, volatilities):\n",
        "    \"\"\"Interpolates to find the implied volatility at 30 days maturity.\"\"\"\n",
        "    try:\n",
        "        # Ensure there is a range that includes 30 days to perform interpolation\n",
        "        if min(maturity_days) <= 30 <= max(maturity_days):\n",
        "            interp_func = interp1d(maturity_days, volatilities, kind='linear', fill_value='extrapolate')\n",
        "            return interp_func(30)\n",
        "        else:\n",
        "            # If 30 days is out of the bounds of the data, return NaN or handle accordingly\n",
        "            return np.nan\n",
        "    except Exception as e:\n",
        "        # Handle exceptions possibly raised by interpolation\n",
        "        return np.nan\n",
        "\n",
        "# Create a new column to store the interpolated results\n",
        "result_df['IV at 30 Days'] = np.nan  # Initialize the column\n",
        "\n",
        "for (date, strike), group in result_df.groupby(['Date', 'Strike Price']):\n",
        "    days = group['Time Difference in Days'].values\n",
        "    vols = group['implied_volatility'].values\n",
        "\n",
        "    iv_at_30 = interpolate_iv_at_30_days(days, vols)\n",
        "    result_df.loc[group.index, 'IV at 30 Days'] = iv_at_30\n",
        "\n",
        "print(result_df[['Date', 'Strike Price', 'IV at 30 Days']])"
      ],
      "metadata": {
        "colab": {
          "base_uri": "https://localhost:8080/"
        },
        "id": "cigEFOW9il8d",
        "outputId": "03f8f1f7-ba3b-4521-95f5-8425e67e795a"
      },
      "execution_count": null,
      "outputs": [
        {
          "output_type": "stream",
          "name": "stderr",
          "text": [
            "/usr/local/lib/python3.10/dist-packages/scipy/interpolate/_interpolate.py:701: RuntimeWarning: invalid value encountered in divide\n",
            "  slope = (y_hi - y_lo) / (x_hi - x_lo)[:, None]\n"
          ]
        },
        {
          "output_type": "stream",
          "name": "stdout",
          "text": [
            "            Date  Strike Price  IV at 30 Days\n",
            "0       20160104          2015       0.178585\n",
            "1       20160104          2020       0.176077\n",
            "2       20160104          2025       0.173692\n",
            "3       20160104          2030       0.171277\n",
            "4       20160104          2035       0.168972\n",
            "...          ...           ...            ...\n",
            "272073  20160429          2045       0.150440\n",
            "272074  20160429          2050       0.148260\n",
            "272075  20160429          2055       0.145948\n",
            "272076  20160429          2060       0.143685\n",
            "272077  20160429          2065       0.141575\n",
            "\n",
            "[272078 rows x 3 columns]\n"
          ]
        }
      ]
    },
    {
      "cell_type": "markdown",
      "source": [
        "###7. Plot"
      ],
      "metadata": {
        "id": "FX1Ya256-afF"
      }
    },
    {
      "cell_type": "code",
      "source": [
        "import matplotlib.pyplot as plt\n",
        "import pandas as pd\n",
        "\n",
        "# Assuming 'otm_options' is your DataFrame with options data that includes a 'Date' column\n",
        "# and 'IV at 30 Days' which we previously calculated\n",
        "\n",
        "# Convert the index of the VIX data to a datetime (if not already)\n",
        "vix_data.index = pd.to_datetime(vix_data.index)\n",
        "\n",
        "# Merge the VIX data with your options data\n",
        "combined_data = pd.merge(otm_options, vix_data['Adj Close'], left_on='Date', right_index=True, how='inner')\n",
        "combined_data.rename(columns={'Adj Close': 'VIX'}, inplace=True)\n",
        "\n",
        "# Plot the actual VIX and the interpolated IV\n",
        "plt.figure(figsize=(12, 6))\n",
        "plt.plot(combined_data['Date'], combined_data['VIX'], label='Actual VIX', color='blue')\n",
        "plt.plot(combined_data['Date'], combined_data['IV at 30 Days'], label='Interpolated IV at 30 Days', color='red')\n",
        "plt.title('Actual VIX vs. Interpolated Implied Volatility at 30 Days')\n",
        "plt.xlabel('Date')\n",
        "plt.ylabel('Volatility')\n",
        "plt.legend()\n",
        "plt.grid(True)\n",
        "plt.show()\n",
        "\n",
        "# Calculate and print the correlation\n",
        "correlation = combined_data['VIX'].corr(combined_data['IV at 30 Days'])\n",
        "print(f\"Correlation between Actual VIX and Interpolated IV at 30 Days: {correlation:.3f}\")\n",
        "\n"
      ],
      "metadata": {
        "colab": {
          "base_uri": "https://localhost:8080/",
          "height": 582
        },
        "id": "8uKwn-Xe9exd",
        "outputId": "d2d3b23a-8a15-4982-b49d-540d1f80d5a6"
      },
      "execution_count": null,
      "outputs": [
        {
          "output_type": "display_data",
          "data": {
            "text/plain": [
              "<Figure size 1000x600 with 1 Axes>"
            ],
            "image/png": "[encoded data removed]"
          },
          "metadata": {}
        },
        {
          "output_type": "stream",
          "name": "stdout",
          "text": [
            "The correlation between the interpolated implied volatility and the actual VIX is: nan\n"
          ]
        }
      ]
    },
    {
      "cell_type": "markdown",
      "source": [
        "###Paper codes"
      ],
      "metadata": {
        "id": "N7alVgM8_MN5"
      }
    },
    {
      "cell_type": "markdown",
      "source": [],
      "metadata": {
        "id": "tqoqxc0ywQ4m"
      }
    },
    {
      "cell_type": "code",
      "source": [],
      "metadata": {
        "id": "FohT37jz_QfX"
      },
      "execution_count": null,
      "outputs": []
    }
  ]
}